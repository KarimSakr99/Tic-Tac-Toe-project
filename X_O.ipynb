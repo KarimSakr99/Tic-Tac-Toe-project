{
 "metadata": {
  "language_info": {
   "codemirror_mode": {
    "name": "ipython",
    "version": 3
   },
   "file_extension": ".py",
   "mimetype": "text/x-python",
   "name": "python",
   "nbconvert_exporter": "python",
   "pygments_lexer": "ipython3",
   "version": "3.8.5-final"
  },
  "orig_nbformat": 2,
  "kernelspec": {
   "name": "python3",
   "display_name": "Python 3.8.5 64-bit (conda)",
   "metadata": {
    "interpreter": {
     "hash": "ed225720166559e7176d3793db16a2fd8d295f725007103b21ac3099d2a89ee8"
    }
   }
  }
 },
 "nbformat": 4,
 "nbformat_minor": 2,
 "cells": [
  {
   "cell_type": "code",
   "execution_count": 1,
   "metadata": {},
   "outputs": [],
   "source": [
    "import random"
   ]
  },
  {
   "cell_type": "code",
   "execution_count": 2,
   "metadata": {},
   "outputs": [],
   "source": [
    "    def print_table():\n",
    "        f_table=f''' _______ _______ _______\n",
    "|       |       |       |\n",
    "|   {table[0][0]}   |   {table[0][1]}   |   {table[0][2]}   |\n",
    "|_______|_______|_______|\n",
    "|       |       |       |\n",
    "|   {table[1][0]}   |   {table[1][1]}   |   {table[1][2]}   |\n",
    "|_______|_______|_______|\n",
    "|       |       |       |\n",
    "|   {table[2][0]}   |   {table[2][1]}   |   {table[2][2]}   |\n",
    "|_______|_______|_______|\n",
    "\n",
    "'''\n",
    "        print(f_table)"
   ]
  },
  {
   "cell_type": "code",
   "execution_count": 3,
   "metadata": {},
   "outputs": [],
   "source": [
    "class player():\n",
    "\n",
    "\n",
    "    def __init__(self, chars):\n",
    "        self.char, self.char_opp = chars\n",
    "\n",
    "\n",
    "    def check_cond(self, check_char):\n",
    "        x, y, z = table\n",
    "        col1 = [x[0], y[0], z[0]]  # [[0][0],[1][0],[2][0]]\n",
    "        col2 = [x[1], y[1], z[1]]  # [[0][1],[1][1],[2][1]]\n",
    "        col3 = [x[2], y[2], z[2]]  # [[0][2],[1][2],[2][2]]\n",
    "        dia1 = [x[0], y[1], z[2]]  # [[0][0],[1][1],[2][2]]\n",
    "        dia2 = [x[2], y[1], z[0]]  # [[0][2],[1][1],[2][0]]\n",
    "        lsts=[x,y,z,col1,col2,col3,dia1,dia2]\n",
    "\n",
    "        for index,lst in enumerate(lsts):\n",
    "            if lst.count(check_char) == 2 and empty in lst:\n",
    "                empty_index = lst.index(empty)\n",
    "                if index in [0,1,2]:\n",
    "                    lst[empty_index] = self.char\n",
    "                elif index in [3,4,5]:\n",
    "                    table[empty_index][index-3] = self.char\n",
    "                elif index == 6:\n",
    "                    table[empty_index][empty_index] = self.char\n",
    "                elif index == 7:\n",
    "                    table[empty_index][2-empty_index] = self.char\n",
    "                return True\n",
    "                \n",
    "\n",
    "    def rand_play(self):\n",
    "        x, y, z = table\n",
    "        rand = ''\n",
    "        values = x+y+z\n",
    "        while rand != empty:\n",
    "            rand_index = random.randint(0, 8)\n",
    "            rand = values[rand_index]\n",
    "        else:\n",
    "            if rand_index > 5:\n",
    "                z[rand_index-6] = self.char\n",
    "            elif rand_index > 2:\n",
    "                y[rand_index-3] = self.char\n",
    "            else:\n",
    "                x[rand_index] = self.char\n",
    "\n",
    "\n",
    "    def is_draw(self):\n",
    "        x, y, z = table\n",
    "        if empty not in x+y+z:\n",
    "            print(\"It is a draw\")\n",
    "            return True\n",
    "        return False\n",
    "\n",
    "\n",
    "    def play(self):\n",
    "        print(f'Player {self.char} is playing')\n",
    "        if self.check_cond(self.char):    # True: played and won / False: could not win so continue conditions\n",
    "            print_table()\n",
    "            print(f'Player {self.char} wins')\n",
    "            return True          # player won and return true for game over\n",
    "        if not self.check_cond(self.char_opp):# True: was not about to lose so play random/False: was about to lose and stopped the other player from winning\n",
    "            self.rand_play()\n",
    "        print_table()\n",
    "        return self.is_draw()   # True: game over with draw as there is no empty place / False : game not over and players take turns"
   ]
  },
  {
   "cell_type": "code",
   "execution_count": 4,
   "metadata": {},
   "outputs": [],
   "source": [
    "empty = ' '\n",
    "chars = ('X','O')\n",
    "player1 = player(chars)\n",
    "player2 = player(chars[::-1])\n"
   ]
  },
  {
   "cell_type": "code",
   "execution_count": 5,
   "metadata": {
    "tags": []
   },
   "outputs": [
    {
     "output_type": "stream",
     "name": "stdout",
     "text": [
      "Player X is playing\n _______ _______ _______\n|       |       |       |\n|   X   |       |       |\n|_______|_______|_______|\n|       |       |       |\n|       |       |       |\n|_______|_______|_______|\n|       |       |       |\n|       |       |       |\n|_______|_______|_______|\n\n\n\nPlayer O is playing\n _______ _______ _______\n|       |       |       |\n|   X   |       |       |\n|_______|_______|_______|\n|       |       |       |\n|       |   O   |       |\n|_______|_______|_______|\n|       |       |       |\n|       |       |       |\n|_______|_______|_______|\n\n\n\nPlayer X is playing\n _______ _______ _______\n|       |       |       |\n|   X   |       |   X   |\n|_______|_______|_______|\n|       |       |       |\n|       |   O   |       |\n|_______|_______|_______|\n|       |       |       |\n|       |       |       |\n|_______|_______|_______|\n\n\n\nPlayer O is playing\n _______ _______ _______\n|       |       |       |\n|   X   |   O   |   X   |\n|_______|_______|_______|\n|       |       |       |\n|       |   O   |       |\n|_______|_______|_______|\n|       |       |       |\n|       |       |       |\n|_______|_______|_______|\n\n\n\nPlayer X is playing\n _______ _______ _______\n|       |       |       |\n|   X   |   O   |   X   |\n|_______|_______|_______|\n|       |       |       |\n|       |   O   |       |\n|_______|_______|_______|\n|       |       |       |\n|       |   X   |       |\n|_______|_______|_______|\n\n\n\nPlayer O is playing\n _______ _______ _______\n|       |       |       |\n|   X   |   O   |   X   |\n|_______|_______|_______|\n|       |       |       |\n|       |   O   |       |\n|_______|_______|_______|\n|       |       |       |\n|       |   X   |   O   |\n|_______|_______|_______|\n\n\n\nPlayer X is playing\n _______ _______ _______\n|       |       |       |\n|   X   |   O   |   X   |\n|_______|_______|_______|\n|       |       |       |\n|   X   |   O   |       |\n|_______|_______|_______|\n|       |       |       |\n|       |   X   |   O   |\n|_______|_______|_______|\n\n\n\nPlayer O is playing\n _______ _______ _______\n|       |       |       |\n|   X   |   O   |   X   |\n|_______|_______|_______|\n|       |       |       |\n|   X   |   O   |       |\n|_______|_______|_______|\n|       |       |       |\n|   O   |   X   |   O   |\n|_______|_______|_______|\n\n\n\nPlayer X is playing\n _______ _______ _______\n|       |       |       |\n|   X   |   O   |   X   |\n|_______|_______|_______|\n|       |       |       |\n|   X   |   O   |   X   |\n|_______|_______|_______|\n|       |       |       |\n|   O   |   X   |   O   |\n|_______|_______|_______|\n\n\nIt is a draw\n\nGame over\n"
     ]
    }
   ],
   "source": [
    "table = [[empty for i in range (3)] for i in range (3)]\n",
    "count = 0\n",
    "game_over = False\n",
    "while game_over == False:\n",
    "    if count%2==0:\n",
    "        game_over = player1.play()  \n",
    "    else:\n",
    "        game_over = player2.play()\n",
    "    count += 1\n",
    "    print()\n",
    "else:\n",
    "    print('Game over')\n"
   ]
  },
  {
   "cell_type": "code",
   "execution_count": 6,
   "metadata": {},
   "outputs": [
    {
     "output_type": "stream",
     "name": "stdout",
     "text": [
      "Player X is playing\n _______ _______ _______\n|       |       |       |\n|       |       |       |\n|_______|_______|_______|\n|       |       |       |\n|       |       |       |\n|_______|_______|_______|\n|       |       |       |\n|       |       |   X   |\n|_______|_______|_______|\n\n\n\nPlayer O is playing\n _______ _______ _______\n|       |       |       |\n|       |       |       |\n|_______|_______|_______|\n|       |       |       |\n|       |       |       |\n|_______|_______|_______|\n|       |       |       |\n|   O   |       |   X   |\n|_______|_______|_______|\n\n\n\nPlayer X is playing\n _______ _______ _______\n|       |       |       |\n|       |       |   X   |\n|_______|_______|_______|\n|       |       |       |\n|       |       |       |\n|_______|_______|_______|\n|       |       |       |\n|   O   |       |   X   |\n|_______|_______|_______|\n\n\n\nPlayer O is playing\n _______ _______ _______\n|       |       |       |\n|       |       |   X   |\n|_______|_______|_______|\n|       |       |       |\n|       |       |   O   |\n|_______|_______|_______|\n|       |       |       |\n|   O   |       |   X   |\n|_______|_______|_______|\n\n\n\nPlayer X is playing\n _______ _______ _______\n|       |       |       |\n|   X   |       |   X   |\n|_______|_______|_______|\n|       |       |       |\n|       |       |   O   |\n|_______|_______|_______|\n|       |       |       |\n|   O   |       |   X   |\n|_______|_______|_______|\n\n\n\nPlayer O is playing\n _______ _______ _______\n|       |       |       |\n|   X   |   O   |   X   |\n|_______|_______|_______|\n|       |       |       |\n|       |       |   O   |\n|_______|_______|_______|\n|       |       |       |\n|   O   |       |   X   |\n|_______|_______|_______|\n\n\n\nPlayer X is playing\n _______ _______ _______\n|       |       |       |\n|   X   |   O   |   X   |\n|_______|_______|_______|\n|       |       |       |\n|       |   X   |   O   |\n|_______|_______|_______|\n|       |       |       |\n|   O   |       |   X   |\n|_______|_______|_______|\n\n\nPlayer X wins\n\nGame over\n"
     ]
    }
   ],
   "source": [
    "table = [[empty for i in range (3)] for i in range (3)]\n",
    "count = 0\n",
    "game_over = False\n",
    "while game_over == False:\n",
    "    if count%2==0:\n",
    "        game_over = player1.play()  \n",
    "    else:\n",
    "        game_over = player2.play()\n",
    "    count += 1\n",
    "    print()\n",
    "else:\n",
    "    print('Game over')"
   ]
  },
  {
   "cell_type": "code",
   "execution_count": 7,
   "metadata": {},
   "outputs": [
    {
     "output_type": "stream",
     "name": "stdout",
     "text": [
      "Player X is playing\n _______ _______ _______\n|       |       |       |\n|       |       |       |\n|_______|_______|_______|\n|       |       |       |\n|       |       |       |\n|_______|_______|_______|\n|       |       |       |\n|   X   |       |       |\n|_______|_______|_______|\n\n\n\nPlayer O is playing\n _______ _______ _______\n|       |       |       |\n|       |   O   |       |\n|_______|_______|_______|\n|       |       |       |\n|       |       |       |\n|_______|_______|_______|\n|       |       |       |\n|   X   |       |       |\n|_______|_______|_______|\n\n\n\nPlayer X is playing\n _______ _______ _______\n|       |       |       |\n|   X   |   O   |       |\n|_______|_______|_______|\n|       |       |       |\n|       |       |       |\n|_______|_______|_______|\n|       |       |       |\n|   X   |       |       |\n|_______|_______|_______|\n\n\n\nPlayer O is playing\n _______ _______ _______\n|       |       |       |\n|   X   |   O   |       |\n|_______|_______|_______|\n|       |       |       |\n|   O   |       |       |\n|_______|_______|_______|\n|       |       |       |\n|   X   |       |       |\n|_______|_______|_______|\n\n\n\nPlayer X is playing\n _______ _______ _______\n|       |       |       |\n|   X   |   O   |   X   |\n|_______|_______|_______|\n|       |       |       |\n|   O   |       |       |\n|_______|_______|_______|\n|       |       |       |\n|   X   |       |       |\n|_______|_______|_______|\n\n\n\nPlayer O is playing\n _______ _______ _______\n|       |       |       |\n|   X   |   O   |   X   |\n|_______|_______|_______|\n|       |       |       |\n|   O   |   O   |       |\n|_______|_______|_______|\n|       |       |       |\n|   X   |       |       |\n|_______|_______|_______|\n\n\n\nPlayer X is playing\n _______ _______ _______\n|       |       |       |\n|   X   |   O   |   X   |\n|_______|_______|_______|\n|       |       |       |\n|   O   |   O   |   X   |\n|_______|_______|_______|\n|       |       |       |\n|   X   |       |       |\n|_______|_______|_______|\n\n\n\nPlayer O is playing\n _______ _______ _______\n|       |       |       |\n|   X   |   O   |   X   |\n|_______|_______|_______|\n|       |       |       |\n|   O   |   O   |   X   |\n|_______|_______|_______|\n|       |       |       |\n|   X   |   O   |       |\n|_______|_______|_______|\n\n\nPlayer O wins\n\nGame over\n"
     ]
    }
   ],
   "source": [
    "table = [[empty for i in range (3)] for i in range (3)]\n",
    "count = 0\n",
    "game_over = False\n",
    "while game_over == False:\n",
    "    if count%2==0:\n",
    "        game_over = player1.play()  \n",
    "    else:\n",
    "        game_over = player2.play()\n",
    "    count += 1\n",
    "    print()\n",
    "else:\n",
    "    print('Game over')"
   ]
  },
  {
   "cell_type": "code",
   "execution_count": 8,
   "metadata": {},
   "outputs": [
    {
     "output_type": "stream",
     "name": "stdout",
     "text": [
      "Player X is playing\n _______ _______ _______\n|       |       |       |\n|       |       |       |\n|_______|_______|_______|\n|       |       |       |\n|       |   X   |       |\n|_______|_______|_______|\n|       |       |       |\n|       |       |       |\n|_______|_______|_______|\n\n\n\nPlayer O is playing\n _______ _______ _______\n|       |       |       |\n|   O   |       |       |\n|_______|_______|_______|\n|       |       |       |\n|       |   X   |       |\n|_______|_______|_______|\n|       |       |       |\n|       |       |       |\n|_______|_______|_______|\n\n\n\nPlayer X is playing\n _______ _______ _______\n|       |       |       |\n|   O   |       |       |\n|_______|_______|_______|\n|       |       |       |\n|       |   X   |       |\n|_______|_______|_______|\n|       |       |       |\n|   X   |       |       |\n|_______|_______|_______|\n\n\n\nPlayer O is playing\n _______ _______ _______\n|       |       |       |\n|   O   |       |   O   |\n|_______|_______|_______|\n|       |       |       |\n|       |   X   |       |\n|_______|_______|_______|\n|       |       |       |\n|   X   |       |       |\n|_______|_______|_______|\n\n\n\nPlayer X is playing\n _______ _______ _______\n|       |       |       |\n|   O   |   X   |   O   |\n|_______|_______|_______|\n|       |       |       |\n|       |   X   |       |\n|_______|_______|_______|\n|       |       |       |\n|   X   |       |       |\n|_______|_______|_______|\n\n\n\nPlayer O is playing\n _______ _______ _______\n|       |       |       |\n|   O   |   X   |   O   |\n|_______|_______|_______|\n|       |       |       |\n|       |   X   |       |\n|_______|_______|_______|\n|       |       |       |\n|   X   |   O   |       |\n|_______|_______|_______|\n\n\n\nPlayer X is playing\n _______ _______ _______\n|       |       |       |\n|   O   |   X   |   O   |\n|_______|_______|_______|\n|       |       |       |\n|   X   |   X   |       |\n|_______|_______|_______|\n|       |       |       |\n|   X   |   O   |       |\n|_______|_______|_______|\n\n\n\nPlayer O is playing\n _______ _______ _______\n|       |       |       |\n|   O   |   X   |   O   |\n|_______|_______|_______|\n|       |       |       |\n|   X   |   X   |   O   |\n|_______|_______|_______|\n|       |       |       |\n|   X   |   O   |       |\n|_______|_______|_______|\n\n\n\nPlayer X is playing\n _______ _______ _______\n|       |       |       |\n|   O   |   X   |   O   |\n|_______|_______|_______|\n|       |       |       |\n|   X   |   X   |   O   |\n|_______|_______|_______|\n|       |       |       |\n|   X   |   O   |   X   |\n|_______|_______|_______|\n\n\nIt is a draw\n\nGame over\n"
     ]
    }
   ],
   "source": [
    "table = [[empty for i in range (3)] for i in range (3)]\n",
    "count = 0\n",
    "game_over = False\n",
    "while game_over == False:\n",
    "    if count%2==0:\n",
    "        game_over = player1.play()  \n",
    "    else:\n",
    "        game_over = player2.play()\n",
    "    count += 1\n",
    "    print()\n",
    "else:\n",
    "    print('Game over')"
   ]
  }
 ]
}