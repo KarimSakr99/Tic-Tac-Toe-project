{
 "metadata": {
  "language_info": {
   "codemirror_mode": {
    "name": "ipython",
    "version": 3
   },
   "file_extension": ".py",
   "mimetype": "text/x-python",
   "name": "python",
   "nbconvert_exporter": "python",
   "pygments_lexer": "ipython3",
   "version": "3.8.5-final"
  },
  "orig_nbformat": 2,
  "kernelspec": {
   "name": "python3",
   "display_name": "Python 3.8.5 64-bit (conda)",
   "metadata": {
    "interpreter": {
     "hash": "ed225720166559e7176d3793db16a2fd8d295f725007103b21ac3099d2a89ee8"
    }
   }
  }
 },
 "nbformat": 4,
 "nbformat_minor": 2,
 "cells": [
  {
   "cell_type": "code",
   "execution_count": 1,
   "metadata": {},
   "outputs": [],
   "source": [
    "import random"
   ]
  },
  {
   "cell_type": "code",
   "execution_count": 2,
   "metadata": {},
   "outputs": [],
   "source": [
    "    def print_table():\n",
    "        f_table=f''' _______ _______ _______\n",
    "|       |       |       |\n",
    "|   {table[0][0]}   |   {table[0][1]}   |   {table[0][2]}   |\n",
    "|_______|_______|_______|\n",
    "|       |       |       |\n",
    "|   {table[1][0]}   |   {table[1][1]}   |   {table[1][2]}   |\n",
    "|_______|_______|_______|\n",
    "|       |       |       |\n",
    "|   {table[2][0]}   |   {table[2][1]}   |   {table[2][2]}   |\n",
    "|_______|_______|_______|\n",
    "'''\n",
    "        print(f_table)"
   ]
  },
  {
   "cell_type": "code",
   "execution_count": 3,
   "metadata": {},
   "outputs": [],
   "source": [
    "class player():\n",
    "\n",
    "\n",
    "    def __init__(self, chars):\n",
    "        self.char, self.char_opp = chars\n",
    "\n",
    "\n",
    "    def check_cond(self, char):\n",
    "        x, y, z = table\n",
    "        col1 = [x[0], y[0], z[0]]\n",
    "        col2 = [x[1], y[1], z[1]]\n",
    "        col3 = [x[2], y[2], z[2]]\n",
    "        dia1 = [x[0], y[1], z[2]]  # [[0][0],[1][1],[2][2]]\n",
    "        dia2 = [x[2], y[1], z[0]]  # [[0][2],[1][1],[2][0]]\n",
    "\n",
    "        if x.count(char) == 2 and empty in x:\n",
    "            x[x.index(empty)] = self.char\n",
    "            return True\n",
    "        elif y.count(char) == 2 and empty in y:\n",
    "            y[y.index(empty)] = self.char\n",
    "            return True\n",
    "        elif z.count(char) == 2 and empty in z:\n",
    "            z[z.index(empty)] = self.char\n",
    "            return True\n",
    "        elif col1.count(char) == 2 and empty in col1:\n",
    "            table[col1.index(empty)][0] = self.char\n",
    "            return True\n",
    "        elif col2.count(char) == 2 and empty in col2:\n",
    "            table[col2.index(empty)][1] = self.char\n",
    "            return True\n",
    "        elif col3.count(char) == 2 and empty in col3:\n",
    "            table[col3.index(empty)][2] = self.char\n",
    "            return True\n",
    "        elif dia1.count(char) == 2 and empty in dia1:\n",
    "            table[dia1.index(empty)][dia1.index(empty)] = self.char\n",
    "            return True\n",
    "        elif dia2.count(char) == 2 and empty in dia2:\n",
    "            table[dia2.index(empty)][2-dia2.index(empty)] = self.char\n",
    "            return True\n",
    "\n",
    "\n",
    "    def is_draw(self):\n",
    "        x, y, z = table\n",
    "        if empty not in x+y+z:\n",
    "            print(\"It is a draw\")\n",
    "            return True\n",
    "\n",
    "\n",
    "    def play(self):\n",
    "        x, y, z = table\n",
    "        print(f'Player {self.char} is playing')\n",
    "        if self.check_cond(self.char):\n",
    "            print_table()\n",
    "            print(f'Player {self.char} wins')\n",
    "            return True\n",
    "\n",
    "        elif self.check_cond(self.char_opp):\n",
    "            print_table()\n",
    "            return True if self.is_draw() else False\n",
    "\n",
    "        rand = ''\n",
    "        values = x+y+z\n",
    "\n",
    "        while rand != empty:\n",
    "            rand_index = random.randint(0, 8)\n",
    "            rand = values[rand_index]\n",
    "        else:\n",
    "            if rand_index > 5:\n",
    "                z[rand_index-6] = self.char\n",
    "            elif rand_index > 2:\n",
    "                y[rand_index-3] = self.char\n",
    "            else:\n",
    "                x[rand_index] = self.char\n",
    "            print_table()\n",
    "            return True if self.is_draw() else False"
   ]
  },
  {
   "cell_type": "code",
   "execution_count": 4,
   "metadata": {},
   "outputs": [],
   "source": [
    "empty = ' '\n",
    "chars = ('X','O')\n",
    "player1 = player(chars)\n",
    "player2 = player(chars[::-1])\n"
   ]
  },
  {
   "cell_type": "code",
   "execution_count": 5,
   "metadata": {
    "tags": []
   },
   "outputs": [
    {
     "output_type": "stream",
     "name": "stdout",
     "text": [
      "Player X is playing\n _______ _______ _______\n|       |       |       |\n|       |       |       |\n|_______|_______|_______|\n|       |       |       |\n|       |       |       |\n|_______|_______|_______|\n|       |       |       |\n|       |       |   X   |\n|_______|_______|_______|\n\nPlayer O is playing\n _______ _______ _______\n|       |       |       |\n|       |       |   O   |\n|_______|_______|_______|\n|       |       |       |\n|       |       |       |\n|_______|_______|_______|\n|       |       |       |\n|       |       |   X   |\n|_______|_______|_______|\n\nPlayer X is playing\n _______ _______ _______\n|       |       |       |\n|       |       |   O   |\n|_______|_______|_______|\n|       |       |       |\n|       |       |       |\n|_______|_______|_______|\n|       |       |       |\n|       |   X   |   X   |\n|_______|_______|_______|\n\nPlayer O is playing\n _______ _______ _______\n|       |       |       |\n|       |       |   O   |\n|_______|_______|_______|\n|       |       |       |\n|       |       |       |\n|_______|_______|_______|\n|       |       |       |\n|   O   |   X   |   X   |\n|_______|_______|_______|\n\nPlayer X is playing\n _______ _______ _______\n|       |       |       |\n|       |       |   O   |\n|_______|_______|_______|\n|       |       |       |\n|       |   X   |       |\n|_______|_______|_______|\n|       |       |       |\n|   O   |   X   |   X   |\n|_______|_______|_______|\n\nPlayer O is playing\n _______ _______ _______\n|       |       |       |\n|       |   O   |   O   |\n|_______|_______|_______|\n|       |       |       |\n|       |   X   |       |\n|_______|_______|_______|\n|       |       |       |\n|   O   |   X   |   X   |\n|_______|_______|_______|\n\nPlayer X is playing\n _______ _______ _______\n|       |       |       |\n|   X   |   O   |   O   |\n|_______|_______|_______|\n|       |       |       |\n|       |   X   |       |\n|_______|_______|_______|\n|       |       |       |\n|   O   |   X   |   X   |\n|_______|_______|_______|\n\nPlayer X wins\nGame over\n"
     ]
    }
   ],
   "source": [
    "table = [[empty for i in range (3)] for i in range (3)]\n",
    "count = 0\n",
    "game_over = False\n",
    "while game_over == False:\n",
    "    if count%2==0:\n",
    "        game_over=player1.play()  \n",
    "    else:\n",
    "        game_over=player2.play()\n",
    "    count+=1\n",
    "else:\n",
    "    print('Game over')\n"
   ]
  },
  {
   "cell_type": "code",
   "execution_count": 6,
   "metadata": {},
   "outputs": [
    {
     "output_type": "stream",
     "name": "stdout",
     "text": [
      "Player X is playing\n _______ _______ _______\n|       |       |       |\n|       |       |       |\n|_______|_______|_______|\n|       |       |       |\n|   X   |       |       |\n|_______|_______|_______|\n|       |       |       |\n|       |       |       |\n|_______|_______|_______|\n\nPlayer O is playing\n _______ _______ _______\n|       |       |       |\n|   O   |       |       |\n|_______|_______|_______|\n|       |       |       |\n|   X   |       |       |\n|_______|_______|_______|\n|       |       |       |\n|       |       |       |\n|_______|_______|_______|\n\nPlayer X is playing\n _______ _______ _______\n|       |       |       |\n|   O   |       |       |\n|_______|_______|_______|\n|       |       |       |\n|   X   |   X   |       |\n|_______|_______|_______|\n|       |       |       |\n|       |       |       |\n|_______|_______|_______|\n\nPlayer O is playing\n _______ _______ _______\n|       |       |       |\n|   O   |       |       |\n|_______|_______|_______|\n|       |       |       |\n|   X   |   X   |   O   |\n|_______|_______|_______|\n|       |       |       |\n|       |       |       |\n|_______|_______|_______|\n\nPlayer X is playing\n _______ _______ _______\n|       |       |       |\n|   O   |       |       |\n|_______|_______|_______|\n|       |       |       |\n|   X   |   X   |   O   |\n|_______|_______|_______|\n|       |       |       |\n|   X   |       |       |\n|_______|_______|_______|\n\nPlayer O is playing\n _______ _______ _______\n|       |       |       |\n|   O   |       |   O   |\n|_______|_______|_______|\n|       |       |       |\n|   X   |   X   |   O   |\n|_______|_______|_______|\n|       |       |       |\n|   X   |       |       |\n|_______|_______|_______|\n\nPlayer X is playing\n _______ _______ _______\n|       |       |       |\n|   O   |   X   |   O   |\n|_______|_______|_______|\n|       |       |       |\n|   X   |   X   |   O   |\n|_______|_______|_______|\n|       |       |       |\n|   X   |       |       |\n|_______|_______|_______|\n\nPlayer O is playing\n _______ _______ _______\n|       |       |       |\n|   O   |   X   |   O   |\n|_______|_______|_______|\n|       |       |       |\n|   X   |   X   |   O   |\n|_______|_______|_______|\n|       |       |       |\n|   X   |       |   O   |\n|_______|_______|_______|\n\nPlayer O wins\nGame over\n"
     ]
    }
   ],
   "source": [
    "table=[[empty for i in range (3)] for i in range (3) ]\n",
    "count=0\n",
    "game_over = False\n",
    "while game_over == False:\n",
    "    if count%2==0:\n",
    "        game_over=player1.play()  \n",
    "    else:\n",
    "        game_over=player2.play()\n",
    "    count+=1\n",
    "else:\n",
    "    print('Game over')\n"
   ]
  },
  {
   "cell_type": "code",
   "execution_count": 7,
   "metadata": {},
   "outputs": [
    {
     "output_type": "stream",
     "name": "stdout",
     "text": [
      "Player X is playing\n _______ _______ _______\n|       |       |       |\n|       |       |       |\n|_______|_______|_______|\n|       |       |       |\n|   X   |       |       |\n|_______|_______|_______|\n|       |       |       |\n|       |       |       |\n|_______|_______|_______|\n\nPlayer O is playing\n _______ _______ _______\n|       |       |       |\n|       |       |   O   |\n|_______|_______|_______|\n|       |       |       |\n|   X   |       |       |\n|_______|_______|_______|\n|       |       |       |\n|       |       |       |\n|_______|_______|_______|\n\nPlayer X is playing\n _______ _______ _______\n|       |       |       |\n|   X   |       |   O   |\n|_______|_______|_______|\n|       |       |       |\n|   X   |       |       |\n|_______|_______|_______|\n|       |       |       |\n|       |       |       |\n|_______|_______|_______|\n\nPlayer O is playing\n _______ _______ _______\n|       |       |       |\n|   X   |       |   O   |\n|_______|_______|_______|\n|       |       |       |\n|   X   |       |       |\n|_______|_______|_______|\n|       |       |       |\n|   O   |       |       |\n|_______|_______|_______|\n\nPlayer X is playing\n _______ _______ _______\n|       |       |       |\n|   X   |       |   O   |\n|_______|_______|_______|\n|       |       |       |\n|   X   |   X   |       |\n|_______|_______|_______|\n|       |       |       |\n|   O   |       |       |\n|_______|_______|_______|\n\nPlayer O is playing\n _______ _______ _______\n|       |       |       |\n|   X   |       |   O   |\n|_______|_______|_______|\n|       |       |       |\n|   X   |   X   |   O   |\n|_______|_______|_______|\n|       |       |       |\n|   O   |       |       |\n|_______|_______|_______|\n\nPlayer X is playing\n _______ _______ _______\n|       |       |       |\n|   X   |       |   O   |\n|_______|_______|_______|\n|       |       |       |\n|   X   |   X   |   O   |\n|_______|_______|_______|\n|       |       |       |\n|   O   |       |   X   |\n|_______|_______|_______|\n\nPlayer X wins\nGame over\n"
     ]
    }
   ],
   "source": [
    "table=[[empty for i in range (3)] for i in range (3) ]\n",
    "count=0\n",
    "game_over = False\n",
    "while game_over == False:\n",
    "    if count%2==0:\n",
    "        game_over=player1.play()  \n",
    "    else:\n",
    "        game_over=player2.play()\n",
    "    count+=1\n",
    "else:\n",
    "    print('Game over')\n"
   ]
  },
  {
   "cell_type": "code",
   "execution_count": 8,
   "metadata": {},
   "outputs": [
    {
     "output_type": "stream",
     "name": "stdout",
     "text": [
      "Player X is playing\n _______ _______ _______\n|       |       |       |\n|       |       |       |\n|_______|_______|_______|\n|       |       |       |\n|       |       |       |\n|_______|_______|_______|\n|       |       |       |\n|   X   |       |       |\n|_______|_______|_______|\n\nPlayer O is playing\n _______ _______ _______\n|       |       |       |\n|       |       |       |\n|_______|_______|_______|\n|       |       |       |\n|   O   |       |       |\n|_______|_______|_______|\n|       |       |       |\n|   X   |       |       |\n|_______|_______|_______|\n\nPlayer X is playing\n _______ _______ _______\n|       |       |       |\n|   X   |       |       |\n|_______|_______|_______|\n|       |       |       |\n|   O   |       |       |\n|_______|_______|_______|\n|       |       |       |\n|   X   |       |       |\n|_______|_______|_______|\n\nPlayer O is playing\n _______ _______ _______\n|       |       |       |\n|   X   |       |   O   |\n|_______|_______|_______|\n|       |       |       |\n|   O   |       |       |\n|_______|_______|_______|\n|       |       |       |\n|   X   |       |       |\n|_______|_______|_______|\n\nPlayer X is playing\n _______ _______ _______\n|       |       |       |\n|   X   |       |   O   |\n|_______|_______|_______|\n|       |       |       |\n|   O   |   X   |       |\n|_______|_______|_______|\n|       |       |       |\n|   X   |       |       |\n|_______|_______|_______|\n\nPlayer O is playing\n _______ _______ _______\n|       |       |       |\n|   X   |       |   O   |\n|_______|_______|_______|\n|       |       |       |\n|   O   |   X   |       |\n|_______|_______|_______|\n|       |       |       |\n|   X   |       |   O   |\n|_______|_______|_______|\n\nPlayer X is playing\n _______ _______ _______\n|       |       |       |\n|   X   |       |   O   |\n|_______|_______|_______|\n|       |       |       |\n|   O   |   X   |   X   |\n|_______|_______|_______|\n|       |       |       |\n|   X   |       |   O   |\n|_______|_______|_______|\n\nPlayer O is playing\n _______ _______ _______\n|       |       |       |\n|   X   |   O   |   O   |\n|_______|_______|_______|\n|       |       |       |\n|   O   |   X   |   X   |\n|_______|_______|_______|\n|       |       |       |\n|   X   |       |   O   |\n|_______|_______|_______|\n\nPlayer X is playing\n _______ _______ _______\n|       |       |       |\n|   X   |   O   |   O   |\n|_______|_______|_______|\n|       |       |       |\n|   O   |   X   |   X   |\n|_______|_______|_______|\n|       |       |       |\n|   X   |   X   |   O   |\n|_______|_______|_______|\n\nIt is a draw\nGame over\n"
     ]
    }
   ],
   "source": [
    "table=[[empty for i in range (3)] for i in range (3) ]\n",
    "count=0\n",
    "game_over = False\n",
    "while game_over == False:\n",
    "    if count%2==0:\n",
    "        game_over=player1.play()  \n",
    "    else:\n",
    "        game_over=player2.play()\n",
    "    count+=1\n",
    "else:\n",
    "    print('Game over')\n"
   ]
  }
 ]
}