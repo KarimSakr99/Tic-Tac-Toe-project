{
 "metadata": {
  "language_info": {
   "codemirror_mode": {
    "name": "ipython",
    "version": 3
   },
   "file_extension": ".py",
   "mimetype": "text/x-python",
   "name": "python",
   "nbconvert_exporter": "python",
   "pygments_lexer": "ipython3",
   "version": "3.8.5-final"
  },
  "orig_nbformat": 2,
  "kernelspec": {
   "name": "python3",
   "display_name": "Python 3.8.5 64-bit (conda)",
   "metadata": {
    "interpreter": {
     "hash": "ed225720166559e7176d3793db16a2fd8d295f725007103b21ac3099d2a89ee8"
    }
   }
  }
 },
 "nbformat": 4,
 "nbformat_minor": 2,
 "cells": [
  {
   "cell_type": "code",
   "execution_count": 1,
   "metadata": {},
   "outputs": [],
   "source": [
    "class player():\n",
    "\n",
    "    def __init__(self, char, char_opp):\n",
    "        self.char = char\n",
    "        self.char_opp = char_opp\n",
    "\n",
    "    def to_win(self):\n",
    "        x, y, z = table\n",
    "        col1 = [x[0], y[0], z[0]]\n",
    "        col2 = [x[1], y[1], z[1]]\n",
    "        col3 = [x[2], y[2], z[2]]\n",
    "        dia1 = [x[0], y[1], z[2]]  # [[0][0],[1][1],[2][2]]\n",
    "        dia2 = [x[2], y[1], z[0]]  # [[0][2],[1][1],[2][0]]\n",
    "        rand = random.choice(x+y+z)\n",
    "# check if winning\n",
    "        if x.count(self.char) == 2 and empty in x:\n",
    "            x[x.index(empty)] = self.char\n",
    "\n",
    "        elif y.count(self.char) == 2 and empty in y:\n",
    "            y[y.index(empty)] = self.char\n",
    "\n",
    "        elif z.count(self.char) == 2 and empty in z:\n",
    "            z[z.index(empty)] = self.char\n",
    "\n",
    "        elif col1.count(self.char) == 2 and empty in col1:\n",
    "            table[col1.index(empty)][0] = self.char\n",
    "\n",
    "        elif col2.count(self.char) == 2 and empty in col2:\n",
    "            table[col2.index(empty)][1] = self.char\n",
    "\n",
    "        elif col3.count(self.char) == 2 and empty in col3:\n",
    "            table[col3.index(empty)][2] = self.char\n",
    "\n",
    "        elif dia1.count(self.char) == 2 and empty in dia1:\n",
    "            table[dia1.index(empty)][dia1.index(empty)] = self.char\n",
    "\n",
    "        elif dia2.count(self.char) == 2 and empty in dia2:\n",
    "            table[dia2.index(empty)][2-dia2.index(empty)] = self.char\n",
    "\n",
    "\n",
    "    # continue check if losing\n",
    "        elif x.count(self.char_opp) == 2 and empty in x:\n",
    "            x[x.index(empty)] = self.char\n",
    "\n",
    "        elif y.count(self.char_opp) == 2 and empty in y:\n",
    "            y[y.index(empty)] = self.char\n",
    "\n",
    "        elif z.count(self.char_opp) == 2 and empty in z:\n",
    "            z[z.index(empty)] = self.char\n",
    "\n",
    "        elif col1.count(self.char_opp) == 2 and empty in col1:\n",
    "            table[col1.index(empty)][0] = self.char\n",
    "\n",
    "        elif col2.count(self.char_opp) == 2 and empty in col2:\n",
    "            table[col2.index(empty)][1] = self.char\n",
    "\n",
    "        elif col3.count(self.char_opp) == 2 and empty in col3:\n",
    "            table[col3.index(empty)][2] = self.char\n",
    "\n",
    "        elif dia1.count(self.char_opp) == 2 and empty in dia1:\n",
    "            table[dia1.index(empty)][dia1.index(empty)] = self.char\n",
    "\n",
    "        elif dia2.count(self.char_opp) == 2 and empty in dia2:\n",
    "            table[dia2.index(empty)][2-dia2.index(empty)] = self.char\n",
    "\n",
    "        # elif empty in x+y+z:\n",
    "        #     while rand != empty:\n",
    "        #         rand=random.choice(x+y+z)\n",
    "        #     else:\n",
    "        #         if rand in x:\n",
    "        #             x[x.index(rand)]=self.char\n",
    "        #         elif rand in y:\n",
    "        #             y[y.index(rand)]=self.char\n",
    "        #         elif rand in z:\n",
    "        #             z[z.index(rand)]=self.char\n",
    "            "
   ]
  },
  {
   "cell_type": "code",
   "execution_count": 2,
   "metadata": {},
   "outputs": [],
   "source": [
    "import random\n",
    "empty = ' '\n",
    "table=([empty,empty,'O'],\n",
    "       ['O','X','O'],\n",
    "       ['X',empty,empty])\n"
   ]
  },
  {
   "cell_type": "code",
   "execution_count": 3,
   "metadata": {},
   "outputs": [],
   "source": [
    "player1=player('X','O')\n",
    "player2=player('O','X')\n",
    "\n"
   ]
  },
  {
   "cell_type": "code",
   "execution_count": 4,
   "metadata": {},
   "outputs": [
    {
     "output_type": "stream",
     "name": "stdout",
     "text": [
      "[' ', ' ', 'O']\n['O', 'X', 'O']\n['X', ' ', 'X']\n"
     ]
    }
   ],
   "source": [
    "player1.to_win()\n",
    "for i in table:\n",
    "    print(i)"
   ]
  },
  {
   "cell_type": "code",
   "execution_count": 5,
   "metadata": {},
   "outputs": [
    {
     "output_type": "stream",
     "name": "stdout",
     "text": [
      "[' ', ' ', 'O']\n['O', 'X', 'O']\n['X', 'O', 'X']\n"
     ]
    }
   ],
   "source": [
    "player2.to_win()\n",
    "for i in table:\n",
    "    print(i)"
   ]
  },
  {
   "cell_type": "code",
   "execution_count": 6,
   "metadata": {},
   "outputs": [
    {
     "output_type": "stream",
     "name": "stdout",
     "text": [
      "['X', ' ', 'O']\n['O', 'X', 'O']\n['X', 'O', 'X']\n"
     ]
    }
   ],
   "source": [
    "player1.to_win()\n",
    "for i in table:\n",
    "    print(i)"
   ]
  },
  {
   "cell_type": "code",
   "execution_count": 7,
   "metadata": {},
   "outputs": [],
   "source": [
    "f_table=f''' _______ _______ _______\n",
    "|       |       |       |\n",
    "|   {table[0][0]}   |   {table[0][1]}   |   {table[0][2]}   |\n",
    "|_______|_______|_______|\n",
    "|       |       |       |\n",
    "|   {table[1][0]}   |   {table[1][1]}   |   {table[1][2]}   |\n",
    "|_______|_______|_______|\n",
    "|       |       |       |\n",
    "|   {table[2][0]}   |   {table[2][1]}   |   {table[2][2]}   |\n",
    "|_______|_______|_______|'''"
   ]
  },
  {
   "cell_type": "code",
   "execution_count": 8,
   "metadata": {},
   "outputs": [
    {
     "output_type": "stream",
     "name": "stdout",
     "text": [
      " _______ _______ _______\n|       |       |       |\n|   X   |       |   O   |\n|_______|_______|_______|\n|       |       |       |\n|   O   |   X   |   O   |\n|_______|_______|_______|\n|       |       |       |\n|   X   |   O   |   X   |\n|_______|_______|_______|\n"
     ]
    }
   ],
   "source": [
    "print(f_table)"
   ]
  }
 ]
}